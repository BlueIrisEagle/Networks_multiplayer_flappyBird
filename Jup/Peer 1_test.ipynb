{
 "cells": [
  {
   "cell_type": "code",
   "execution_count": 1,
   "metadata": {},
   "outputs": [],
   "source": [
    "import socket\n",
    "import time"
   ]
  },
  {
   "cell_type": "code",
   "execution_count": null,
   "metadata": {},
   "outputs": [
    {
     "name": "stdout",
     "output_type": "stream",
     "text": [
      "received message: b'BROADCASTED MESSAGE'\n",
      "received message: b'BROADCASTED MESSAGE'\n",
      "received message: b'BROADCASTED MESSAGE'\n",
      "received message: b'BROADCASTED MESSAGE'\n",
      "received message: b'BROADCASTED MESSAGE'\n",
      "received message: b'BROADCASTED MESSAGE'\n",
      "received message: b'BROADCASTED MESSAGE'\n",
      "received message: b'BROADCASTED MESSAGE'\n",
      "received message: b'BROADCASTED MESSAGE'\n",
      "received message: b'BROADCASTED MESSAGE'\n",
      "received message: b'BROADCASTED MESSAGE'\n",
      "received message: b'BROADCASTED MESSAGE'\n",
      "received message: b'BROADCASTED MESSAGE'\n",
      "received message: b'BROADCASTED MESSAGE'\n",
      "received message: b'BROADCASTED MESSAGE'\n",
      "received message: b'BROADCASTED MESSAGE'\n",
      "received message: b'BROADCASTED MESSAGE'\n",
      "received message: b'BROADCASTED MESSAGE'\n",
      "received message: b'BROADCASTED MESSAGE'\n",
      "received message: b'BROADCASTED MESSAGE'\n",
      "received message: b'BROADCASTED MESSAGE'\n",
      "received message: b'BROADCASTED MESSAGE'\n",
      "received message: b'BROADCASTED MESSAGE'\n",
      "received message: b'BROADCASTED MESSAGE'\n",
      "received message: b'BROADCASTED MESSAGE'\n",
      "received message: b'BROADCASTED MESSAGE'\n",
      "received message: b'BROADCASTED MESSAGE'\n",
      "received message: b'BROADCASTED MESSAGE'\n",
      "received message: b'BROADCASTED MESSAGE'\n",
      "received message: b'BROADCASTED MESSAGE'\n",
      "received message: b'BROADCASTED MESSAGE'\n",
      "received message: b'BROADCASTED MESSAGE'\n",
      "received message: b'BROADCASTED MESSAGE'\n",
      "received message: b'BROADCASTED MESSAGE'\n",
      "received message: b'BROADCASTED MESSAGE'\n",
      "received message: b'BROADCASTED MESSAGE'\n",
      "received message: b'BROADCASTED MESSAGE'\n",
      "received message: b'BROADCASTED MESSAGE'\n",
      "received message: b'BROADCASTED MESSAGE'\n",
      "received message: b'BROADCASTED MESSAGE'\n",
      "received message: b'BROADCASTED MESSAGE'\n",
      "received message: b'BROADCASTED MESSAGE'\n",
      "received message: b'BROADCASTED MESSAGE'\n",
      "received message: b'BROADCASTED MESSAGE'\n",
      "received message: b'BROADCASTED MESSAGE'\n",
      "received message: b'BROADCASTED MESSAGE'\n",
      "received message: b'BROADCASTED MESSAGE'\n",
      "received message: b'BROADCASTED MESSAGE'\n",
      "received message: b'BROADCASTED MESSAGE'\n",
      "received message: b'BROADCASTED MESSAGE'\n"
     ]
    }
   ],
   "source": [
    "client = socket.socket(socket.AF_INET, socket.SOCK_DGRAM,0) # UDP\n",
    "\n",
    "client.setsockopt(socket.SOL_SOCKET, socket.SO_BROADCAST, 1)\n",
    "\n",
    "client.bind(('', 5008))\n",
    "\n",
    "\n",
    "while True:\n",
    "\n",
    "    data, addr = client.recvfrom(1024)\n",
    "\n",
    "    print(\"received message: %s\"%data)"
   ]
  },
  {
   "cell_type": "code",
   "execution_count": null,
   "metadata": {},
   "outputs": [],
   "source": [
    "UDP_IP = \"127.0.0.1\"\n",
    "UDP_PORT = 5005\n",
    "MESSAGE = b\"P1_Hello World\"\n",
    "    \n",
    "print (\"UDP target IP:\", UDP_IP)\n",
    "print (\"UDP target port:\", UDP_PORT)\n",
    "print (\"Peer 1 message:\", MESSAGE)\n",
    "   \n",
    "sock = socket.socket(socket.AF_INET, # Internet\n",
    "                        socket.SOCK_DGRAM) # UDP\n",
    "sock.sendto(MESSAGE, (UDP_IP, UDP_PORT))"
   ]
  },
  {
   "cell_type": "code",
   "execution_count": null,
   "metadata": {},
   "outputs": [],
   "source": []
  }
 ],
 "metadata": {
  "kernelspec": {
   "display_name": "Python 3",
   "language": "python",
   "name": "python3"
  },
  "language_info": {
   "codemirror_mode": {
    "name": "ipython",
    "version": 3
   },
   "file_extension": ".py",
   "mimetype": "text/x-python",
   "name": "python",
   "nbconvert_exporter": "python",
   "pygments_lexer": "ipython3",
   "version": "3.7.1"
  }
 },
 "nbformat": 4,
 "nbformat_minor": 2
}
