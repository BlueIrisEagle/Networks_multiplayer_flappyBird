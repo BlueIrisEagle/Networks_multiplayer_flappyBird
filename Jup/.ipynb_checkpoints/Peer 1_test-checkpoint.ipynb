{
 "cells": [
  {
   "cell_type": "code",
   "execution_count": 1,
   "metadata": {},
   "outputs": [],
   "source": [
    "import socket\n",
    "import time\n",
    "import random"
   ]
  },
  {
   "cell_type": "code",
   "execution_count": 2,
   "metadata": {},
   "outputs": [
    {
     "name": "stdout",
     "output_type": "stream",
     "text": [
      "socket binded to port 32619\n",
      "socket is listening\n"
     ]
    }
   ],
   "source": [
    "random.seed(a=None, version=2)\n",
    "tcp_port_num= random.randint(2**11,2**16)\n",
    "destination_port=-1\n",
    "destination_ip=-1\n",
    "\n",
    "#Listening ROUTINE#\n",
    "tcp_wait = socket.socket(socket.AF_INET, socket.SOCK_STREAM) \n",
    "tcp_wait.bind(('', tcp_port_num)) \n",
    "print(\"socket binded to port\", tcp_port_num) \n",
    "tcp_wait.listen(1) #Number of devices to listen to\n",
    "print(\"socket is listening\")\n",
    "\n",
    "client = socket.socket(socket.AF_INET, socket.SOCK_DGRAM,0) # UDP\n",
    "client.setsockopt(socket.SOL_SOCKET, socket.SO_BROADCAST, 1)\n",
    "client.setsockopt(socket.SOL_SOCKET, socket.SO_REUSEADDR, 1)\n",
    "\n",
    "client.bind(('', 5008))\n",
    "message = b'Hello everybody I am Peer 1 , you can connect to me via TCP using port: '+ str(tcp_port_num).encode()"
   ]
  },
  {
   "cell_type": "code",
   "execution_count": 3,
   "metadata": {},
   "outputs": [],
   "source": [
    "while True:\n",
    "    client.sendto(message, ('255.255.255.255',5008))\n",
    "    time.sleep(3)\n",
    "    data, addr = client.recvfrom(1024)\n",
    "    if (data != message):\n",
    "        break"
   ]
  },
  {
   "cell_type": "code",
   "execution_count": null,
   "metadata": {},
   "outputs": [],
   "source": [
    "start_game=False\n",
    "ok_message=b'OK Let\\'s talk'\n",
    "while(start_game != True):\n",
    "    if(data == b'Let\\'s talk'): #If someone is asking for connection with this peer for the first time\n",
    "\n",
    "        destination_ip=addr[0]\n",
    "        client.sendto(b'OK Let\\'s talk', ('255.255.255.255',5008))\n",
    "        start_game=True\n",
    "       \n",
    "        ##Listening ROUTINE#\n",
    "        #tcp_waiting = socket.socket(socket.AF_INET, socket.SOCK_STREAM) \n",
    "        #tcp_waiting.bind((destination_ip, tcp_port_num)) \n",
    "        #print(\"socket binded to post\", port) \n",
    "        #tcp_conn.listen(1) #Number of devices listening to\n",
    "        #print(\"socket is listening\")\n",
    "\n",
    "        while True:\n",
    "            c, addr = tcp_wait.accept()\n",
    "            print(\"socket binded to port\", addr[1])\n",
    "            #################################################################################\n",
    "            ############## START GAME AND SEND STATS HERE ###################################\n",
    "\n",
    "    elif(data != ok_message):\n",
    "        data, addr = client.recvfrom(1024)\n",
    "        client.sendto(b'I am peer 1 Let\\'s talk', ('255.255.255.255',5008))\n",
    "        #print(data)\n",
    "        time.sleep(2)\n",
    "        \n",
    "    else: # If received a message from a peer\n",
    "        print(\"received message: %s\"%data)\n",
    "        destination_port=int(message.decode()[-5:])\n",
    "        destination_ip=addr[0]\n",
    "        print('Waiting for confirmation message')\n",
    "\n",
    "    \n",
    "\n",
    "        #Initiating a TCP_Connection\n",
    "        tcp_conn = socket.socket(socket.AF_INET,socket.SOCK_STREAM) \n",
    "        tcp_conn((destination_ip,destination_port))\n",
    "         #################################################################################\n",
    "         ############## START GAME AND SEND STATS HERE ###################################\n",
    "     "
   ]
  },
  {
   "cell_type": "code",
   "execution_count": null,
   "metadata": {},
   "outputs": [],
   "source": [
    "message=b'Hello everybody I am Peer 1 , you can connect to me via TCP using port: 123123'\n",
    "printdestination_port=int(message.decode()[-4:])"
   ]
  },
  {
   "cell_type": "code",
   "execution_count": null,
   "metadata": {},
   "outputs": [],
   "source": [
    "#Let's Talk ! Broadcast || Wait for it"
   ]
  },
  {
   "cell_type": "code",
   "execution_count": null,
   "metadata": {},
   "outputs": [],
   "source": [
    "#Start game then Send status"
   ]
  },
  {
   "cell_type": "code",
   "execution_count": null,
   "metadata": {},
   "outputs": [],
   "source": []
  }
 ],
 "metadata": {
  "kernelspec": {
   "display_name": "Python 3",
   "language": "python",
   "name": "python3"
  },
  "language_info": {
   "codemirror_mode": {
    "name": "ipython",
    "version": 3
   },
   "file_extension": ".py",
   "mimetype": "text/x-python",
   "name": "python",
   "nbconvert_exporter": "python",
   "pygments_lexer": "ipython3",
   "version": "3.7.3"
  }
 },
 "nbformat": 4,
 "nbformat_minor": 2
}
