{
 "cells": [
  {
   "cell_type": "code",
   "execution_count": 5,
   "metadata": {},
   "outputs": [],
   "source": [
    "import socket\n",
    "import time\n",
    "import random"
   ]
  },
  {
   "cell_type": "code",
   "execution_count": 6,
   "metadata": {},
   "outputs": [
    {
     "name": "stdout",
     "output_type": "stream",
     "text": [
      "socket binded to port 40754\n",
      "socket is listening on its own port\n"
     ]
    }
   ],
   "source": [
    "random.seed(a=None, version=2)\n",
    "tcp_port_num= random.randint(2**11,2**16)\n",
    "destination_port=-1\n",
    "destination_ip=-1\n",
    "\n",
    "#Listening ROUTINE#\n",
    "tcp_self = socket.socket(socket.AF_INET, socket.SOCK_STREAM) \n",
    "tcp_self.bind(('', tcp_port_num)) \n",
    "print(\"socket binded to port\", tcp_port_num) \n",
    "tcp_self.listen(1) #Number of devices to listen to\n",
    "print(\"socket is listening on its own port\")\n",
    "\n",
    "client = socket.socket(socket.AF_INET, socket.SOCK_DGRAM,0) # UDP\n",
    "client.setsockopt(socket.SOL_SOCKET, socket.SO_BROADCAST, 1)\n",
    "client.setsockopt(socket.SOL_SOCKET, socket.SO_REUSEADDR, 1)\n",
    "\n",
    "client.bind(('', 5008))\n",
    "message = b'Hello everybody I am Peer 3 , you can connect to me via TCP using port: '+ str(tcp_port_num).encode()"
   ]
  },
  {
   "cell_type": "code",
   "execution_count": 7,
   "metadata": {},
   "outputs": [],
   "source": [
    "while True:\n",
    "    client.sendto(message, ('255.255.255.255',5008))\n",
    "    time.sleep(3)\n",
    "    data, addr = client.recvfrom(1024)\n",
    "    if (data != message):\n",
    "        break"
   ]
  },
  {
   "cell_type": "code",
   "execution_count": null,
   "metadata": {},
   "outputs": [
    {
     "name": "stdout",
     "output_type": "stream",
     "text": [
      "received message: b'Hello everybody I am Peer 1 , you can connect to me via TCP using port: 45906'\n",
      "Waiting for confirmation message from port 45906 Address 192.168.56.1\n",
      "Peer 3 is in the OK\n"
     ]
    }
   ],
   "source": [
    "start_game = False\n",
    "connect_flag = False\n",
    "connected_via_tcp=0\n",
    "ok_message=b'OK Let\\'s talk'\n",
    "tcp_message=''\n",
    "last_message=''\n",
    "\n",
    "#print('Reached SuperLoop')\n",
    "while(start_game != True):\n",
    "    data, addr = client.recvfrom(1024)\n",
    "    if(data == b'Let\\'s talk' and destination_port == -1): #If someone is asking for connection with this peer for the first time\n",
    "        \n",
    "        destination_ip=addr[0]\n",
    "\n",
    "        for i in range(10):\n",
    "            client.sendto(b'OK Let\\'s talk', ('255.255.255.255',5008))\n",
    "            time.sleep(1)\n",
    "       \n",
    "        #Listening ROUTINE#\n",
    "        #tcp_waiting = socket.socket(socket.AF_INET, socket.SOCK_STREAM) \n",
    "        #tcp_waiting.bind((destination_ip, tcp_port_num)) \n",
    "        #print(\"socket binded to port\", tcp_port_num) \n",
    "        #tcp_conn.listen(1) #Number of devices listening to\n",
    "        #print(\"socket is listening\")\n",
    "\n",
    "        while True:\n",
    "            c, addr = tcp_self.accept()\n",
    "            print('TCP Connection Established with: ', addr[0], ':', addr[1])\n",
    "            #print(\"address is:    \",addr)\n",
    "\n",
    "            c.send('TCP TEST TEST TEST'.encode())\n",
    "            tcp_conn.send('TCP TEST TEST TEST'.encode())\n",
    "            \n",
    "            tcp_message = c.recv(1024).decode()\n",
    "            print(tcp_message)\n",
    "            #time.sleep(1)\n",
    "            #################################################################################\n",
    "            ############## START GAME AND SEND STATS HERE ###################################\n",
    "\n",
    "    elif(data == ok_message):\n",
    "        start_game=True\n",
    "        while(True):\n",
    "            print(\"Peer 3 is in the OK\")\n",
    "            tcp_conn.send(b'After OK Let\\'s Talk .. Test from PEER3') # Supposed to be sending\n",
    "            \n",
    "            c, addr = tcp_self.accept()\n",
    "            \n",
    "            tcp_message =c.recv(1024)\n",
    "            print(tcp_message)\n",
    "            time.sleep(2)\n",
    "        \n",
    "    else: # If received a message from a peer\n",
    "        if(last_message != data and data != message and data!= b'Let\\'s talk' ): # Infinite loop avoidance\n",
    "            print(\"received message: %s\"%data)\n",
    "\n",
    "            last_message=data\n",
    "\n",
    "            destination_port=int(data.decode()[-5:])\n",
    "            destination_ip=addr[0]\n",
    "\n",
    "            print('Waiting for confirmation message from port',destination_port,'Address',destination_ip)\n",
    "            \n",
    "            for i in range(6):\n",
    "                client.sendto(b'Let\\'s talk', ('255.255.255.255',5008))\n",
    "                time.sleep(1)\n",
    "\n",
    "\n",
    "            if(connect_flag == False):\n",
    "                connect_flag = True\n",
    "                #Initiating a TCP_Connection\n",
    "                tcp_conn = socket.socket(socket.AF_INET,socket.SOCK_STREAM) \n",
    "                #print(destination_ip)\n",
    "                tcp_conn.connect((destination_ip,destination_port))\n",
    "                 #################################################################################\n",
    "                 ############## START GAME AND SEND STATS HERE ###################################\n"
   ]
  },
  {
   "cell_type": "code",
   "execution_count": null,
   "metadata": {},
   "outputs": [
    {
     "name": "stdout",
     "output_type": "stream",
     "text": [
      "Peer 3 is in Let's talk\n",
      "TCP Connection Established with:  192.168.56.1 : 7131\n"
     ]
    }
   ],
   "source": [
    "######################################################################################################################\n",
    "start_game = False\n",
    "connect_flag = False\n",
    "connected_via_tcp=0\n",
    "ok_message=b'OK Let\\'s talk'\n",
    "tcp_message=''\n",
    "last_message=''\n",
    "\n",
    "#print('Reached SuperLoop')\n",
    "while(start_game != True):\n",
    "    data, addr = client.recvfrom(1024)\n",
    "    if(data == b'Let\\'s talk' and destination_port == -1): #If someone is asking for connection with this peer for the first time\n",
    "        print(\"Peer 3 is in Let\\'s talk\")\n",
    "        destination_ip=addr[0]\n",
    "\n",
    "        for i in range(10):\n",
    "            client.sendto(b'OK Let\\'s talk', ('255.255.255.255',5008))\n",
    "            time.sleep(1)\n",
    "       \n",
    "    \n",
    "\n",
    "        while True:\n",
    "            c, addr = tcp_self.accept()\n",
    "            print('TCP Connection Established with: ', addr[0], ':', addr[1])\n",
    "            tcp_message = c.recv(1024).decode()\n",
    "            c.send('TCP TEST TEST TEST'.encode())\n",
    "            print(tcp_message)\n",
    "            #time.sleep(1)\n",
    "            #################################################################################\n",
    "            ############## START GAME AND SEND STATS HERE ###################################\n",
    "\n",
    "    elif(data == ok_message):\n",
    "        start_game=True\n",
    "        while(True):\n",
    "            \n",
    "            c, addr = tcp_self.accept()\n",
    "            print(\"PEER 3 In OK\")\n",
    "            tcp_conn.send(b'After OK Let\\'s Talk .. Test from PEER3') # Supposed to be sending\n",
    "            tcp_message = c.recv(1024).decode()\n",
    "            print(tcp_message)\n",
    "            time.sleep(2)\n",
    "            \n",
    "        \n",
    "    else: # If received a message from a peer\n",
    "        if(last_message != data and data != message and data!= b'Let\\'s talk' ): # Infinite loop avoidance\n",
    "            print(\"received message: %s\"%data)\n",
    "\n",
    "            last_message=data\n",
    "\n",
    "            destination_port=int(data.decode()[-5:])\n",
    "            destination_ip=addr[0]\n",
    "\n",
    "            print('Waiting for confirmation message from port',destination_port,'Address',destination_ip)\n",
    "            \n",
    "            for i in range(6):\n",
    "                client.sendto(b'Let\\'s talk', ('255.255.255.255',5008))\n",
    "                time.sleep(1)\n",
    "\n",
    "\n",
    "            if(connect_flag == False):\n",
    "                connect_flag = True\n",
    "                #Initiating a TCP_Connection\n",
    "                tcp_conn = socket.socket(socket.AF_INET,socket.SOCK_STREAM) \n",
    "                #print(destination_ip)\n",
    "                tcp_conn.connect((destination_ip,destination_port))\n",
    "                 #################################################################################\n",
    "                 ############## START GAME AND SEND STATS HERE ###################################\n"
   ]
  },
  {
   "cell_type": "code",
   "execution_count": null,
   "metadata": {},
   "outputs": [],
   "source": [
    "message=b'Hello everybody I am Peer 1 , you can connect to me via TCP using port: 123123'\n",
    "print destination_port=int(message.decode()[-4:])"
   ]
  },
  {
   "cell_type": "code",
   "execution_count": null,
   "metadata": {},
   "outputs": [],
   "source": []
  }
 ],
 "metadata": {
  "kernelspec": {
   "display_name": "Python 3",
   "language": "python",
   "name": "python3"
  },
  "language_info": {
   "codemirror_mode": {
    "name": "ipython",
    "version": 3
   },
   "file_extension": ".py",
   "mimetype": "text/x-python",
   "name": "python",
   "nbconvert_exporter": "python",
   "pygments_lexer": "ipython3",
   "version": "3.7.3"
  }
 },
 "nbformat": 4,
 "nbformat_minor": 2
}
